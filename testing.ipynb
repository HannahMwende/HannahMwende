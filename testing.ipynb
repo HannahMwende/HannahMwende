{
  "nbformat": 4,
  "nbformat_minor": 0,
  "metadata": {
    "colab": {
      "name": "testing",
      "provenance": [],
      "authorship_tag": "ABX9TyM6+FW6vMAtY4YrQecjcaUK",
      "include_colab_link": true
    },
    "kernelspec": {
      "name": "python3",
      "display_name": "Python 3"
    },
    "language_info": {
      "name": "python"
    }
  },
  "cells": [
    {
      "cell_type": "markdown",
      "metadata": {
        "id": "view-in-github",
        "colab_type": "text"
      },
      "source": [
        "<a href=\"https://colab.research.google.com/github/HannahMwende/HannahMwende/blob/main/testing.ipynb\" target=\"_parent\"><img src=\"https://colab.research.google.com/assets/colab-badge.svg\" alt=\"Open In Colab\"/></a>"
      ]
    },
    {
      "cell_type": "code",
      "execution_count": null,
      "metadata": {
        "colab": {
          "base_uri": "https://localhost:8080/"
        },
        "id": "oIMC_MmAMg2z",
        "outputId": "d7e2268d-a4ab-4523-d6b1-218776bf38c7"
      },
      "outputs": [
        {
          "output_type": "stream",
          "name": "stdout",
          "text": [
            "hello world!\n"
          ]
        }
      ],
      "source": [
        "print(\"hello world!\")\n",
        "\n"
      ]
    },
    {
      "cell_type": "code",
      "source": [
        "a=3\n",
        "b=4\n",
        "print(a+b)"
      ],
      "metadata": {
        "id": "WXftl-saN0Ou",
        "colab": {
          "base_uri": "https://localhost:8080/"
        },
        "outputId": "f9a58a19-36d5-4dbc-973e-1d69e716c7c7"
      },
      "execution_count": 1,
      "outputs": [
        {
          "output_type": "stream",
          "name": "stdout",
          "text": [
            "7\n"
          ]
        }
      ]
    },
    {
      "cell_type": "markdown",
      "source": [
        "**this is my first repo **"
      ],
      "metadata": {
        "id": "jO-ZYVzPMs5J"
      }
    }
  ]
}