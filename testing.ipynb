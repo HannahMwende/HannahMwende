{
  "nbformat": 4,
  "nbformat_minor": 0,
  "metadata": {
    "colab": {
      "name": "testing",
      "provenance": [],
      "authorship_tag": "ABX9TyOsyo7pIe8t8Jc9SNs9Jxx3",
      "include_colab_link": true
    },
    "kernelspec": {
      "name": "python3",
      "display_name": "Python 3"
    },
    "language_info": {
      "name": "python"
    }
  },
  "cells": [
    {
      "cell_type": "markdown",
      "metadata": {
        "id": "view-in-github",
        "colab_type": "text"
      },
      "source": [
        "<a href=\"https://colab.research.google.com/github/HannahMwende/HannahMwende/blob/main/testing.ipynb\" target=\"_parent\"><img src=\"https://colab.research.google.com/assets/colab-badge.svg\" alt=\"Open In Colab\"/></a>"
      ]
    },
    {
      "cell_type": "code",
      "execution_count": 1,
      "metadata": {
        "colab": {
          "base_uri": "https://localhost:8080/"
        },
        "id": "oIMC_MmAMg2z",
        "outputId": "d7e2268d-a4ab-4523-d6b1-218776bf38c7"
      },
      "outputs": [
        {
          "output_type": "stream",
          "name": "stdout",
          "text": [
            "hello world!\n"
          ]
        }
      ],
      "source": [
        "print(\"hello world!\")\n"
      ]
    },
    {
      "cell_type": "markdown",
      "source": [
        "**this is my first repo **"
      ],
      "metadata": {
        "id": "jO-ZYVzPMs5J"
      }
    }
  ]
}